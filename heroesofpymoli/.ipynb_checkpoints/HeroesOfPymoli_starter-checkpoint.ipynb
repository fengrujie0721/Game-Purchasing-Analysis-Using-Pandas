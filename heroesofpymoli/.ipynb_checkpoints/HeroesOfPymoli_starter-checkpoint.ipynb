{
 "cells": [
  {
   "cell_type": "markdown",
   "metadata": {},
   "source": [
    "### Note\n",
    "* Instructions have been included for each segment. You do not have to follow them exactly, but they are included to help you think through the steps."
   ]
  },
  {
   "cell_type": "code",
   "execution_count": null,
   "metadata": {},
   "outputs": [],
   "source": [
    "# Dependencies and Setup\n",
    "import pandas as pd\n",
    "\n",
    "# File to Load (Remember to Change These)\n",
    "file_to_load = \"Resources/purchase_data.csv\"\n",
    "\n",
    "# Read Purchasing File and store into Pandas data frame\n",
    "purchase_data = pd.read_csv(file_to_load,encoding=\"ISO-8859-1\")"
   ]
  },
  {
   "cell_type": "markdown",
   "metadata": {},
   "source": [
    "## Player Count"
   ]
  },
  {
   "cell_type": "markdown",
   "metadata": {},
   "source": [
    "* Display the total number of players\n"
   ]
  },
  {
   "cell_type": "code",
   "execution_count": null,
   "metadata": {
    "scrolled": false
   },
   "outputs": [],
   "source": [
    "#get unique purchase data based on SN\n",
    "purchase_data_unique=purchase_data[\"SN\"].unique()\n",
    "#count the unique SN\n",
    "count=len(purchase_data_unique)\n",
    "#build the dataframe\n",
    "total_players=pd.DataFrame({\"Total Players\": [count]})\n",
    "total_players\n"
   ]
  },
  {
   "cell_type": "markdown",
   "metadata": {},
   "source": [
    "## Purchasing Analysis (Total)"
   ]
  },
  {
   "cell_type": "markdown",
   "metadata": {},
   "source": [
    "* Run basic calculations to obtain number of unique items, average price, etc.\n",
    "\n",
    "\n",
    "* Create a summary data frame to hold the results\n",
    "\n",
    "\n",
    "* Optional: give the displayed data cleaner formatting\n",
    "\n",
    "\n",
    "* Display the summary data frame\n"
   ]
  },
  {
   "cell_type": "code",
   "execution_count": null,
   "metadata": {
    "scrolled": false
   },
   "outputs": [],
   "source": [
    "#get unique number of purchase data based on Item Name\n",
    "number_of_unique_items=len(purchase_data[\"Item Name\"].unique())\n",
    "#get mean of price\n",
    "average_price=round(purchase_data[\"Price\"].mean(),2)\n",
    "#get number of purchase ID of purchase_data\n",
    "number_of_purchases=len(purchase_data[\"Purchase ID\"])\n",
    "#get sum of price of purchase_data\n",
    "total_revenue=purchase_data[\"Price\"].sum()\n",
    "#build the dataframe\n",
    "purchasing_analysis=pd.DataFrame({\"Number of Unique Items\":[number_of_unique_items], \"Average Price\":\"$\"+str(average_price),\"Number of Purchases\": [number_of_purchases], \"Total Revenue\": [total_revenue]})\n",
    "#format the total revenue\n",
    "purchasing_analysis[\"Total Revenue\"]=purchasing_analysis[\"Total Revenue\"].map(\"${:,.2f}\".format)\n",
    "\n",
    "purchasing_analysis"
   ]
  },
  {
   "cell_type": "markdown",
   "metadata": {},
   "source": [
    "## Gender Demographics"
   ]
  },
  {
   "cell_type": "markdown",
   "metadata": {},
   "source": [
    "* Percentage and Count of Male Players\n",
    "\n",
    "\n",
    "* Percentage and Count of Female Players\n",
    "\n",
    "\n",
    "* Percentage and Count of Other / Non-Disclosed\n",
    "\n",
    "\n"
   ]
  },
  {
   "cell_type": "code",
   "execution_count": null,
   "metadata": {},
   "outputs": [],
   "source": [
    "#drop duplicates of SN in purchase_data\n",
    "clean_data=purchase_data.drop_duplicates(subset=\"SN\")\n",
    "#get counts of gender\n",
    "clean_data.count()\n",
    "gender_counts=clean_data[\"Gender\"].value_counts()\n",
    "#get percentile of counts of gender\n",
    "gender_percentage=(clean_data[\"Gender\"].value_counts(normalize=True))\n",
    "#concat two data\n",
    "df=pd.concat([gender_counts,gender_percentage],axis=1)\n",
    "#rename the columns\n",
    "df.columns=[\"Total Count\",\"Percentage of Players\"]\n",
    "#format the percentage of players\n",
    "df[\"Percentage of Players\"]=df[\"Percentage of Players\"].multiply(100)\n",
    "df[\"Percentage of Players\"]=df[\"Percentage of Players\"].map(\"{:.2f}%\".format)\n",
    "df"
   ]
  },
  {
   "cell_type": "markdown",
   "metadata": {},
   "source": [
    "\n",
    "## Purchasing Analysis (Gender)"
   ]
  },
  {
   "cell_type": "markdown",
   "metadata": {},
   "source": [
    "* Run basic calculations to obtain purchase count, avg. purchase price, avg. purchase total per person etc. by gender\n",
    "\n",
    "\n",
    "\n",
    "\n",
    "* Create a summary data frame to hold the results\n",
    "\n",
    "\n",
    "* Optional: give the displayed data cleaner formatting\n",
    "\n",
    "\n",
    "* Display the summary data frame"
   ]
  },
  {
   "cell_type": "code",
   "execution_count": null,
   "metadata": {},
   "outputs": [],
   "source": [
    "#group purchase_data by gender\n",
    "gender_group=purchase_data.groupby([\"Gender\"])\n",
    "#get the mean\n",
    "purchasing_analysis_gender_mean=gender_group.mean()\n",
    "df2=purchasing_analysis_gender_mean[[\"Price\"]]\n",
    "#get the sum\n",
    "purchasing_analysis_gender_sum=gender_group.sum()\n",
    "df3=purchasing_analysis_gender_sum[[\"Price\"]]\n",
    "#get the count\n",
    "purchasing_analysis_gender_count=gender_group.count()\n",
    "df4=purchasing_analysis_gender_count[[\"Price\"]]\n",
    "#concat the mean,sum, and count data\n",
    "df5=pd.concat([df4,df2,df3],axis=1)\n",
    "#rename the columns \n",
    "df5.columns=[\"Purchase Count\",\"Average Purchase Price\",\"Total Purchase Value\"]\n",
    "#get the average total purchase per person\n",
    "average_total_purchase_per_person=df5[[\"Total Purchase Value\"]].div(df[\"Total Count\"],axis=0)\n",
    "#concat the average total purchase per person with other dataframes\n",
    "df1=pd.concat([df5,average_total_purchase_per_person],axis=1)\n",
    "\n",
    "#rename the columns\n",
    "df1.columns=[\"Purchase Count\", \"Average Purchase Price\",\"Total Purchase Value\",\"Avg Total Purchase per Person\"]\n",
    "#format the data display\n",
    "df1[\"Average Purchase Price\"]=df1[\"Average Purchase Price\"].map(\"${:.2f}\".format)\n",
    "df1[\"Total Purchase Value\"]=df1[\"Total Purchase Value\"].map(\"${:,.2f}\".format)\n",
    "df1[\"Avg Total Purchase per Person\"]=df1[\"Avg Total Purchase per Person\"].map(\"${:.2f}\".format)\n",
    "df1\n"
   ]
  },
  {
   "cell_type": "markdown",
   "metadata": {},
   "source": [
    "## Age Demographics"
   ]
  },
  {
   "cell_type": "markdown",
   "metadata": {},
   "source": [
    "* Establish bins for ages\n",
    "\n",
    "\n",
    "* Categorize the existing players using the age bins. Hint: use pd.cut()\n",
    "\n",
    "\n",
    "* Calculate the numbers and percentages by age group\n",
    "\n",
    "\n",
    "* Create a summary data frame to hold the results\n",
    "\n",
    "\n",
    "* Optional: round the percentage column to two decimal points\n",
    "\n",
    "\n",
    "* Display Age Demographics Table\n"
   ]
  },
  {
   "cell_type": "code",
   "execution_count": null,
   "metadata": {},
   "outputs": [],
   "source": [
    "#establish bins for ages\n",
    "bins=[0,9.9,14.9,19.9,24.9,29.9,34.9,39.9,100]\n",
    "group_names=[\"<10\",\"10-14\",\"15-19\",\"20-24\",\"25-29\",\"30-34\",\"35-39\",\"40+\"]\n",
    "age_group=pd.cut(clean_data[\"Age\"],bins,labels=group_names,include_lowest=True)\n",
    "#get value counts\n",
    "age_group_count=age_group.value_counts(sort=False)\n",
    "#get percentage of value counts\n",
    "age_group_percentage=age_group.value_counts(sort=False,normalize=True)\n",
    "#concat the dataframes\n",
    "age_demographics=pd.concat([age_group_count,age_group_percentage],axis=1)\n",
    "#rename the columns\n",
    "age_demographics.columns=[\"Total Count\",\"Percentage of Players\"]\n",
    "#format the data display\n",
    "age_demographics[\"Percentage of Players\"]=age_demographics[\"Percentage of Players\"].multiply(100)\n",
    "age_demographics[\"Percentage of Players\"]=age_demographics[\"Percentage of Players\"].map(\"${:.2f}%\".format)\n",
    "age_demographics\n"
   ]
  },
  {
   "cell_type": "markdown",
   "metadata": {},
   "source": [
    "## Purchasing Analysis (Age)"
   ]
  },
  {
   "cell_type": "markdown",
   "metadata": {},
   "source": [
    "* Bin the purchase_data data frame by age\n",
    "\n",
    "\n",
    "* Run basic calculations to obtain purchase count, avg. purchase price, avg. purchase total per person etc. in the table below\n",
    "\n",
    "\n",
    "* Create a summary data frame to hold the results\n",
    "\n",
    "\n",
    "* Optional: give the displayed data cleaner formatting\n",
    "\n",
    "\n",
    "* Display the summary data frame"
   ]
  },
  {
   "cell_type": "code",
   "execution_count": null,
   "metadata": {},
   "outputs": [],
   "source": [
    "#establish bins of age\n",
    "bins=[0,9.9,14.9,19.9,24.9,29.9,34.9,39.9,100]\n",
    "group_names=[\"<10\",\"10-14\",\"15-19\",\"20-24\",\"25-29\",\"30-34\",\"35-39\",\"40+\"]\n",
    "age_group1=pd.cut(purchase_data[\"Age\"],bins,labels=group_names,include_lowest=True)\n",
    "\n",
    "#group purchase data by age group\n",
    "age_group=purchase_data.groupby(age_group1)\n",
    "#get the mean\n",
    "df7=age_group.mean()\n",
    "#get the sum\n",
    "df8=age_group.sum()\n",
    "#get the count\n",
    "df9=age_group.count()\n",
    "#concat the dataframes\n",
    "df6=pd.concat([df9[[\"Price\"]],df7[[\"Price\"]],df8[[\"Price\"]]],axis=1)\n",
    "#rename the columns\n",
    "df6.columns=[\"Purchase Count\",\"Average Purchase Price\",\"Total Purchase Value\"]\n",
    "#get average total purchase per person\n",
    "df10=df6[[\"Total Purchase Value\"]].div(age_demographics[\"Total Count\"],axis=0)\n",
    "#concat average total purchase per person data to other dataframes\n",
    "df11=pd.concat([df6[[\"Purchase Count\"]],df6[[\"Average Purchase Price\"]],df6[[\"Total Purchase Value\"]],df10[[\"Total Purchase Value\"]]],axis=1)\n",
    "#rename columns\n",
    "df11.columns=[\"Purchase Count\",\"Average Purchase Price\",\"Total Purchase Value\",\"Avg Total Purchase per Person\"]\n",
    "#format data\n",
    "df11[\"Average Purchase Price\"]=df11[\"Average Purchase Price\"].map(\"${:.2f}\".format)\n",
    "df11[\"Total Purchase Value\"]=df11[\"Total Purchase Value\"].map(\"${:,.2f}\".format)\n",
    "df11[\"Avg Total Purchase per Person\"]=df11[\"Avg Total Purchase per Person\"].map(\"${:.2f}\".format)\n",
    "df11"
   ]
  },
  {
   "cell_type": "markdown",
   "metadata": {},
   "source": [
    "## Top Spenders"
   ]
  },
  {
   "cell_type": "markdown",
   "metadata": {},
   "source": [
    "* Run basic calculations to obtain the results in the table below\n",
    "\n",
    "\n",
    "* Create a summary data frame to hold the results\n",
    "\n",
    "\n",
    "* Sort the total purchase value column in descending order\n",
    "\n",
    "\n",
    "* Optional: give the displayed data cleaner formatting\n",
    "\n",
    "\n",
    "* Display a preview of the summary data frame\n",
    "\n"
   ]
  },
  {
   "cell_type": "code",
   "execution_count": null,
   "metadata": {},
   "outputs": [],
   "source": [
    "#group purchase data by SN\n",
    "spenders=purchase_data.groupby([\"SN\"])\n",
    "#get the sum\n",
    "spenders_sum=spenders.sum()\n",
    "#drop other columns,only left price column\n",
    "spenders_sum.drop(spenders_sum.columns[[0,1,2]],axis=1,inplace=True)\n",
    "#get the count\n",
    "spenders_count=spenders.count()\n",
    "#drop other columns,only left SN count\n",
    "spenders_count.drop(spenders_count.columns[[1,2,3,4,5]],axis=1,inplace=True)\n",
    "#ge the mean\n",
    "spenders_mean=spenders.mean()\n",
    "#drop other columns,only left price column\n",
    "spenders_mean.drop(spenders_mean.columns[[0,1,2]],axis=1,inplace=True)\n",
    "#concat dataframes\n",
    "spenders_combine=pd.concat([spenders_count,spenders_mean,spenders_sum],axis=1)\n",
    "#rename columns\n",
    "spenders_combine.columns=[\"Purchase Count\",\"Average Purchase Price\",\"Total Purchase Value\"]\n",
    "#sort the data by total purchase value\n",
    "spenders_combine=spenders_combine.sort_values(\"Total Purchase Value\",ascending=False)\n",
    "#format data\n",
    "spenders_combine[\"Average Purchase Price\"]=spenders_combine[\"Average Purchase Price\"].map(\"${:.2f}\".format)\n",
    "spenders_combine[\"Total Purchase Value\"]=spenders_combine[\"Total Purchase Value\"].map(\"${:.2f}\".format)\n",
    "spenders_combine.head()"
   ]
  },
  {
   "cell_type": "markdown",
   "metadata": {},
   "source": [
    "## Most Popular Items"
   ]
  },
  {
   "cell_type": "markdown",
   "metadata": {},
   "source": [
    "* Retrieve the Item ID, Item Name, and Item Price columns\n",
    "\n",
    "\n",
    "* Group by Item ID and Item Name. Perform calculations to obtain purchase count, average item price, and total purchase value\n",
    "\n",
    "\n",
    "* Create a summary data frame to hold the results\n",
    "\n",
    "\n",
    "* Sort the purchase count column in descending order\n",
    "\n",
    "\n",
    "* Optional: give the displayed data cleaner formatting\n",
    "\n",
    "\n",
    "* Display a preview of the summary data frame\n",
    "\n"
   ]
  },
  {
   "cell_type": "code",
   "execution_count": null,
   "metadata": {},
   "outputs": [],
   "source": [
    "#group purchase data by item ID and Item Name\n",
    "popular_items=purchase_data.groupby([\"Item ID\",\"Item Name\"])\n",
    "#get the count\n",
    "popular_items_count=popular_items.count()\n",
    "#drop other columns, only left Item ID\n",
    "popular_items_count.drop(popular_items_count.columns[[0,1,2,3]],axis=1,inplace=True)\n",
    "#get the mean\n",
    "popular_items_mean=popular_items.mean()\n",
    "#drop other columns, only left price\n",
    "popular_items_mean.drop(popular_items_mean.columns[[0,1]],axis=1,inplace=True)\n",
    "#get the sum\n",
    "popular_items_sum=popular_items.sum()\n",
    "#drop other columns, only left price\n",
    "popular_items_sum.drop(popular_items_sum.columns[[0,1]],axis=1,inplace=True)\n",
    "#concat dataframes\n",
    "popular_items_combine=pd.concat([popular_items_count,popular_items_mean,popular_items_sum],axis=1)\n",
    "#rename columns\n",
    "popular_items_combine.columns=[\"Purchase Count\",\"Item Price\",\"Total Purchase Value\"]\n",
    "#sort data by purchase count\n",
    "popular_items_combine=popular_items_combine.sort_values(\"Purchase Count\",ascending=False)\n",
    "#format data\n",
    "popular_items_combine[\"Item Price\"]=popular_items_combine[\"Item Price\"].map(\"${:.2f}\".format)\n",
    "popular_items_combine[\"Total Purchase Value\"]=popular_items_combine[\"Total Purchase Value\"].map(\"${:.2f}\".format)\n",
    "popular_items_combine.head()\n"
   ]
  },
  {
   "cell_type": "markdown",
   "metadata": {},
   "source": [
    "## Most Profitable Items"
   ]
  },
  {
   "cell_type": "markdown",
   "metadata": {},
   "source": [
    "* Sort the above table by total purchase value in descending order\n",
    "\n",
    "\n",
    "* Optional: give the displayed data cleaner formatting\n",
    "\n",
    "\n",
    "* Display a preview of the data frame\n",
    "\n"
   ]
  },
  {
   "cell_type": "code",
   "execution_count": null,
   "metadata": {
    "scrolled": true
   },
   "outputs": [],
   "source": [
    "#concat dataframes\n",
    "popular_items_combine=pd.concat([popular_items_count,popular_items_mean,popular_items_sum],axis=1)\n",
    "#rename columns\n",
    "popular_items_combine.columns=[\"Purchase Count\",\"Item Price\",\"Total Purchase Value\"]\n",
    "#sort data by total purchase value\n",
    "popular_items_combine=popular_items_combine.sort_values(\"Total Purchase Value\",ascending=False)\n",
    "#format data\n",
    "popular_items_combine[\"Item Price\"]=popular_items_combine[\"Item Price\"].map(\"${:.2f}\".format)\n",
    "popular_items_combine[\"Total Purchase Value\"]=popular_items_combine[\"Total Purchase Value\"].map(\"${:.2f}\".format)\n",
    "popular_items_combine.head()\n"
   ]
  },
  {
   "cell_type": "code",
   "execution_count": null,
   "metadata": {},
   "outputs": [],
   "source": []
  }
 ],
 "metadata": {
  "anaconda-cloud": {},
  "kernel_info": {
   "name": "python3"
  },
  "kernelspec": {
   "display_name": "Python [conda env:pythondata] *",
   "language": "python",
   "name": "conda-env-pythondata-py"
  },
  "language_info": {
   "codemirror_mode": {
    "name": "ipython",
    "version": 3
   },
   "file_extension": ".py",
   "mimetype": "text/x-python",
   "name": "python",
   "nbconvert_exporter": "python",
   "pygments_lexer": "ipython3",
   "version": "3.6.10"
  },
  "latex_envs": {
   "LaTeX_envs_menu_present": true,
   "autoclose": false,
   "autocomplete": true,
   "bibliofile": "biblio.bib",
   "cite_by": "apalike",
   "current_citInitial": 1,
   "eqLabelWithNumbers": true,
   "eqNumInitial": 1,
   "hotkeys": {
    "equation": "Ctrl-E",
    "itemize": "Ctrl-I"
   },
   "labels_anchors": false,
   "latex_user_defs": false,
   "report_style_numbering": false,
   "user_envs_cfg": false
  },
  "nteract": {
   "version": "0.2.0"
  }
 },
 "nbformat": 4,
 "nbformat_minor": 2
}
